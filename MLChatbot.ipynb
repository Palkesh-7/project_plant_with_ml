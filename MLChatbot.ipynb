{
  "cells": [
    {
      "cell_type": "code",
      "execution_count": null,
      "metadata": {
        "colab": {
          "base_uri": "https://localhost:8080/"
        },
        "id": "UUI1xVO9CPob",
        "outputId": "0ee1687b-6ea6-404f-ed38-29728301ab15"
      },
      "outputs": [
        {
          "name": "stdout",
          "output_type": "stream",
          "text": [
            "Looking in indexes: https://pypi.org/simple, https://us-python.pkg.dev/colab-wheels/public/simple/\n",
            "Collecting newspaper3k\n",
            "  Downloading newspaper3k-0.2.8-py3-none-any.whl (211 kB)\n",
            "\u001b[K     |████████████████████████████████| 211 kB 8.6 MB/s \n",
            "\u001b[?25hRequirement already satisfied: lxml>=3.6.0 in /usr/local/lib/python3.7/dist-packages (from newspaper3k) (4.9.1)\n",
            "Requirement already satisfied: python-dateutil>=2.5.3 in /usr/local/lib/python3.7/dist-packages (from newspaper3k) (2.8.2)\n",
            "Requirement already satisfied: Pillow>=3.3.0 in /usr/local/lib/python3.7/dist-packages (from newspaper3k) (7.1.2)\n",
            "Collecting tinysegmenter==0.3\n",
            "  Downloading tinysegmenter-0.3.tar.gz (16 kB)\n",
            "Requirement already satisfied: beautifulsoup4>=4.4.1 in /usr/local/lib/python3.7/dist-packages (from newspaper3k) (4.6.3)\n",
            "Collecting tldextract>=2.0.1\n",
            "  Downloading tldextract-3.3.1-py3-none-any.whl (93 kB)\n",
            "\u001b[K     |████████████████████████████████| 93 kB 1.9 MB/s \n",
            "\u001b[?25hRequirement already satisfied: requests>=2.10.0 in /usr/local/lib/python3.7/dist-packages (from newspaper3k) (2.23.0)\n",
            "Collecting feedparser>=5.2.1\n",
            "  Downloading feedparser-6.0.10-py3-none-any.whl (81 kB)\n",
            "\u001b[K     |████████████████████████████████| 81 kB 10.2 MB/s \n",
            "\u001b[?25hCollecting cssselect>=0.9.2\n",
            "  Downloading cssselect-1.1.0-py2.py3-none-any.whl (16 kB)\n",
            "Collecting jieba3k>=0.35.1\n",
            "  Downloading jieba3k-0.35.1.zip (7.4 MB)\n",
            "\u001b[K     |████████████████████████████████| 7.4 MB 43.0 MB/s \n",
            "\u001b[?25hRequirement already satisfied: nltk>=3.2.1 in /usr/local/lib/python3.7/dist-packages (from newspaper3k) (3.7)\n",
            "Requirement already satisfied: PyYAML>=3.11 in /usr/local/lib/python3.7/dist-packages (from newspaper3k) (3.13)\n",
            "Collecting feedfinder2>=0.0.4\n",
            "  Downloading feedfinder2-0.0.4.tar.gz (3.3 kB)\n",
            "Requirement already satisfied: six in /usr/local/lib/python3.7/dist-packages (from feedfinder2>=0.0.4->newspaper3k) (1.15.0)\n",
            "Collecting sgmllib3k\n",
            "  Downloading sgmllib3k-1.0.0.tar.gz (5.8 kB)\n",
            "Requirement already satisfied: regex>=2021.8.3 in /usr/local/lib/python3.7/dist-packages (from nltk>=3.2.1->newspaper3k) (2022.6.2)\n",
            "Requirement already satisfied: tqdm in /usr/local/lib/python3.7/dist-packages (from nltk>=3.2.1->newspaper3k) (4.64.0)\n",
            "Requirement already satisfied: click in /usr/local/lib/python3.7/dist-packages (from nltk>=3.2.1->newspaper3k) (7.1.2)\n",
            "Requirement already satisfied: joblib in /usr/local/lib/python3.7/dist-packages (from nltk>=3.2.1->newspaper3k) (1.1.0)\n",
            "Requirement already satisfied: certifi>=2017.4.17 in /usr/local/lib/python3.7/dist-packages (from requests>=2.10.0->newspaper3k) (2022.6.15)\n",
            "Requirement already satisfied: idna<3,>=2.5 in /usr/local/lib/python3.7/dist-packages (from requests>=2.10.0->newspaper3k) (2.10)\n",
            "Requirement already satisfied: chardet<4,>=3.0.2 in /usr/local/lib/python3.7/dist-packages (from requests>=2.10.0->newspaper3k) (3.0.4)\n",
            "Requirement already satisfied: urllib3!=1.25.0,!=1.25.1,<1.26,>=1.21.1 in /usr/local/lib/python3.7/dist-packages (from requests>=2.10.0->newspaper3k) (1.24.3)\n",
            "Requirement already satisfied: filelock>=3.0.8 in /usr/local/lib/python3.7/dist-packages (from tldextract>=2.0.1->newspaper3k) (3.7.1)\n",
            "Collecting requests-file>=1.4\n",
            "  Downloading requests_file-1.5.1-py2.py3-none-any.whl (3.7 kB)\n",
            "Building wheels for collected packages: tinysegmenter, feedfinder2, jieba3k, sgmllib3k\n",
            "  Building wheel for tinysegmenter (setup.py) ... \u001b[?25l\u001b[?25hdone\n",
            "  Created wheel for tinysegmenter: filename=tinysegmenter-0.3-py3-none-any.whl size=13553 sha256=ad964281412d780ff0f79b1e80beeb0df90bb53f89113c735b0bfa3be6c73928\n",
            "  Stored in directory: /root/.cache/pip/wheels/df/67/41/faca10fa501ca010be41b49d40360c2959e1c4f09bcbfa37fa\n",
            "  Building wheel for feedfinder2 (setup.py) ... \u001b[?25l\u001b[?25hdone\n",
            "  Created wheel for feedfinder2: filename=feedfinder2-0.0.4-py3-none-any.whl size=3357 sha256=2837a6fcc24733a5e616ee1aa0907cd4aff74e2646d9c82e03740da27beac2d2\n",
            "  Stored in directory: /root/.cache/pip/wheels/7f/d4/8f/6e2ca54744c9d7292d88ddb8d42876bcdab5e6d84a21c10346\n",
            "  Building wheel for jieba3k (setup.py) ... \u001b[?25l\u001b[?25hdone\n",
            "  Created wheel for jieba3k: filename=jieba3k-0.35.1-py3-none-any.whl size=7398404 sha256=673d2cd6054705c31d630be22ed9d2dc463e8bbfa2ec7f04658141aad42ff78e\n",
            "  Stored in directory: /root/.cache/pip/wheels/4c/91/46/3c208287b726df325a5979574324878b679116e4baae1af3c3\n",
            "  Building wheel for sgmllib3k (setup.py) ... \u001b[?25l\u001b[?25hdone\n",
            "  Created wheel for sgmllib3k: filename=sgmllib3k-1.0.0-py3-none-any.whl size=6066 sha256=5089746c97e6311e5f0a9e7255498d8db8b8d67ea9549811db70c404102b36a5\n",
            "  Stored in directory: /root/.cache/pip/wheels/73/ad/a4/0dff4a6ef231fc0dfa12ffbac2a36cebfdddfe059f50e019aa\n",
            "Successfully built tinysegmenter feedfinder2 jieba3k sgmllib3k\n",
            "Installing collected packages: sgmllib3k, requests-file, tldextract, tinysegmenter, jieba3k, feedparser, feedfinder2, cssselect, newspaper3k\n",
            "Successfully installed cssselect-1.1.0 feedfinder2-0.0.4 feedparser-6.0.10 jieba3k-0.35.1 newspaper3k-0.2.8 requests-file-1.5.1 sgmllib3k-1.0.0 tinysegmenter-0.3 tldextract-3.3.1\n"
          ]
        }
      ],
      "source": [
        "pip install newspaper3k"
      ]
    },
    {
      "cell_type": "code",
      "execution_count": null,
      "metadata": {
        "colab": {
          "base_uri": "https://localhost:8080/"
        },
        "id": "48y6CM_pikGm",
        "outputId": "bc6f2d86-da4b-4ff5-c8cf-29d18741e415"
      },
      "outputs": [
        {
          "name": "stdout",
          "output_type": "stream",
          "text": [
            "I'm Dr. Andrew Bentall, a kidney doctor at Mayo Clinic. I look after patients with kidney disease, either in the early stages, or with more advanced kidney disease considering dialysis and transplantation as treatment options. In this video, we'll cover the basics of chronic kidney disease. What is it? Who gets it? The symptoms, diagnosis and treatment. Whether you are looking for answers for yourself or for someone you love, we're here to give you the best information available.\n",
            "\n",
            "Chronic kidney disease is a disease characterized by progressive damage and loss of function in the kidneys. It's estimated that chronic kidney disease affects about one in seven American adults. And most of those don't know they have it. Before we get into the disease itself, let's talk a little bit about the kidneys and what they do. Our kidneys play many important roles keeping our bodies in balance. They remove waste and toxins, excess water from the bloodstream, which is carried out of the body in urine. They helped to make hormones to produce red blood cells, and they turn vitamin D into its active form, so it's usable in the body.\n",
            "\n",
            "There are quite a few things that can cause or put you at higher risk for chronic kidney disease. Some of them are not things that can be avoided. Your risk is simply higher if you have a family history of certain genetic conditions like polycystic kidney disease or some autoimmune diseases like lupus or IgA nephropathy. Defects in the kidney structure can also cause your kidneys to fail, and you have an increased risk as you get older. Sometimes, other common medical conditions can increase your risk. Diabetes is the most common cause of kidney disease. Both type 1 and type 2 diabetes. But also heart disease and obesity can contribute to the damage that causes kidneys to fail. Urinary tract issues and inflammation in different parts of the kidney can also lead to long-term functional decline. There are things that are more under our control: Heavy or long-term use of certain medications, even those that are common over-the-counter. Smoking can also be a contributing factor to chronic kidney disease.\n",
            "\n",
            "Often there are no outward signs in the earlier stages of chronic kidney disease, which is grouped into stages 1 through 5. Generally, earlier stages are known as 1 to 3. And as kidney disease progresses, you may notice the following symptoms. Nausea and vomiting, muscle cramps, loss of appetite, swelling via feet and ankles, dry, itchy skin, shortness of breath, trouble sleeping, urinating either too much or too little. However, these are usually in the later stages, but they can also happen in other disorders. So don't automatically interpret this as having kidney disease. But if you're experiencing anything that concerns you, you should make an appointment with your doctor.\n",
            "\n",
            "Even before any symptoms appear, routine blood work can indicate that you might be in the early stages of chronic kidney disease. And the earlier it's detected, the easier it is to treat. This is why regular checkups with your doctor are important. If your doctor suspects the onset of chronic kidney disease, they may schedule a variety of other tests. They may also refer you to a kidney specialist, a nephrologist like myself. Urine tests can reveal abnormalities and give clues to the underlying cause of the chronic kidney disease. And this can also help to determine the underlying issues. Various imaging tests like ultrasounds or CT scans can be done to help your doctor assess the size, the structure, as well as evaluate the visible damage, inflammation or stones of your kidneys. And in some cases, a kidney biopsy may be necessary. And a small amount of tissue is taken with a needle and sent to the pathologist for further analysis.\n",
            "\n",
            "Treatment is determined by what is causing your kidneys to not function normally. Treating the cause is key, leading to reduced complications and slowing progression of kidney disease. For example, getting better blood pressure control, improved sugar control and diabetes, and reducing weight are often key interventions. However, existing damage is not usually reversible. In some conditions, treatment can reverse the cause of the disease. So seeking medical review is really important. Individual complications vary, but treatment might include high blood pressure medication, diuretics to reduce fluid and swelling, supplements to relieve anemia, statins to lower cholesterol, or medications to protect your bones and prevent blood vessel calcification. A lower-protein diet may also be recommended. It reduces the amount of waste your kidneys need to filter from your blood. These can not only slow the damage of kidney disease, but make you feel better as well. When the damage has progressed to the point that 85 to 90 percent of your kidney function is gone, and they no longer work well enough to keep you alive, it's called end-stage kidney failure. But there are still options. There's dialysis, which uses a machine to filter the toxins and remove water from your body as your kidneys are no longer able to do this. Where possible, the preferred therapy is a kidney transplant. While an organ transplant can sound daunting, it's actually often the better alternative, and the closest thing to a cure, if you qualify for a kidney transplant.\n",
            "\n",
            "If you have kidney disease, there are lifestyle choices. Namely quit smoking. Consuming alcohol in moderation. If you're overweight or obese, then try to lose weight. Staying active and getting exercise can help not only with your weight, but fatigue and stress. If your condition allows, keep up with your routine, whether that's working, hobbies, social activities, or other things you enjoy. It can be helpful to talk to someone you trust, a friend or relative who's good at listening. Or your doctor could also refer you to a therapist or social worker. It can also be helpful to find a support group and connect with people going through the same thing. Learning you have chronic kidney disease and learning how to live with it can be a challenge. But there are lots of ways to help you to be more comfortable for longer before more drastic measures are needed. And even then, there is plenty of hope. If you'd like to learn even more about chronic kidney disease, watch our other related videos or visit mayoclinic.org. We wish you well.\n"
          ]
        }
      ],
      "source": [
        "from newspaper import Article \n",
        "import random\n",
        "import string \n",
        "from sklearn.feature_extraction.text import TfidfVectorizer \n",
        "from sklearn.metrics.pairwise import cosine_similarity\n",
        "import nltk\n",
        "import numpy as np\n",
        "import warnings \n",
        "\n",
        "# ignore warnings \n",
        "warnings.filterwarnings('ignore')\n",
        "\n",
        "#download packages from nltk \n",
        "nltk.download('punkt',quiet=True)\n",
        "nltk.download('wordnet', quiet=True)\n",
        "\n",
        "#get the Article URL \n",
        "article=Article('https://www.mayoclinic.org/diseases-conditions/chronic-kidney-disease/symptoms-causes/syc-20354521')\n",
        "article.download()\n",
        "article.parse()\n",
        "article.nlp()\n",
        "corpus=article.text\n",
        "print(corpus)\n",
        "\n",
        "\n",
        "\n",
        "\n",
        "\n",
        "\n"
      ]
    },
    {
      "cell_type": "code",
      "execution_count": null,
      "metadata": {
        "colab": {
          "base_uri": "https://localhost:8080/"
        },
        "id": "FoMcH7_VDPi5",
        "outputId": "7cf25b79-4568-4bc8-90a4-b0b93471298e"
      },
      "outputs": [
        {
          "name": "stdout",
          "output_type": "stream",
          "text": [
            "[\"I'm Dr. Andrew Bentall, a kidney doctor at Mayo Clinic.\", 'I look after patients with kidney disease, either in the early stages, or with more advanced kidney disease considering dialysis and transplantation as treatment options.', \"In this video, we'll cover the basics of chronic kidney disease.\", 'What is it?', 'Who gets it?', 'The symptoms, diagnosis and treatment.', \"Whether you are looking for answers for yourself or for someone you love, we're here to give you the best information available.\", 'Chronic kidney disease is a disease characterized by progressive damage and loss of function in the kidneys.', \"It's estimated that chronic kidney disease affects about one in seven American adults.\", \"And most of those don't know they have it.\", \"Before we get into the disease itself, let's talk a little bit about the kidneys and what they do.\", 'Our kidneys play many important roles keeping our bodies in balance.', 'They remove waste and toxins, excess water from the bloodstream, which is carried out of the body in urine.', \"They helped to make hormones to produce red blood cells, and they turn vitamin D into its active form, so it's usable in the body.\", 'There are quite a few things that can cause or put you at higher risk for chronic kidney disease.', 'Some of them are not things that can be avoided.', 'Your risk is simply higher if you have a family history of certain genetic conditions like polycystic kidney disease or some autoimmune diseases like lupus or IgA nephropathy.', 'Defects in the kidney structure can also cause your kidneys to fail, and you have an increased risk as you get older.', 'Sometimes, other common medical conditions can increase your risk.', 'Diabetes is the most common cause of kidney disease.', 'Both type 1 and type 2 diabetes.', 'But also heart disease and obesity can contribute to the damage that causes kidneys to fail.', 'Urinary tract issues and inflammation in different parts of the kidney can also lead to long-term functional decline.', 'There are things that are more under our control: Heavy or long-term use of certain medications, even those that are common over-the-counter.', 'Smoking can also be a contributing factor to chronic kidney disease.', 'Often there are no outward signs in the earlier stages of chronic kidney disease, which is grouped into stages 1 through 5.', 'Generally, earlier stages are known as 1 to 3.', 'And as kidney disease progresses, you may notice the following symptoms.', 'Nausea and vomiting, muscle cramps, loss of appetite, swelling via feet and ankles, dry, itchy skin, shortness of breath, trouble sleeping, urinating either too much or too little.', 'However, these are usually in the later stages, but they can also happen in other disorders.', \"So don't automatically interpret this as having kidney disease.\", \"But if you're experiencing anything that concerns you, you should make an appointment with your doctor.\", 'Even before any symptoms appear, routine blood work can indicate that you might be in the early stages of chronic kidney disease.', \"And the earlier it's detected, the easier it is to treat.\", 'This is why regular checkups with your doctor are important.', 'If your doctor suspects the onset of chronic kidney disease, they may schedule a variety of other tests.', 'They may also refer you to a kidney specialist, a nephrologist like myself.', 'Urine tests can reveal abnormalities and give clues to the underlying cause of the chronic kidney disease.', 'And this can also help to determine the underlying issues.', 'Various imaging tests like ultrasounds or CT scans can be done to help your doctor assess the size, the structure, as well as evaluate the visible damage, inflammation or stones of your kidneys.', 'And in some cases, a kidney biopsy may be necessary.', 'And a small amount of tissue is taken with a needle and sent to the pathologist for further analysis.', 'Treatment is determined by what is causing your kidneys to not function normally.', 'Treating the cause is key, leading to reduced complications and slowing progression of kidney disease.', 'For example, getting better blood pressure control, improved sugar control and diabetes, and reducing weight are often key interventions.', 'However, existing damage is not usually reversible.', 'In some conditions, treatment can reverse the cause of the disease.', 'So seeking medical review is really important.', 'Individual complications vary, but treatment might include high blood pressure medication, diuretics to reduce fluid and swelling, supplements to relieve anemia, statins to lower cholesterol, or medications to protect your bones and prevent blood vessel calcification.', 'A lower-protein diet may also be recommended.', 'It reduces the amount of waste your kidneys need to filter from your blood.', 'These can not only slow the damage of kidney disease, but make you feel better as well.', \"When the damage has progressed to the point that 85 to 90 percent of your kidney function is gone, and they no longer work well enough to keep you alive, it's called end-stage kidney failure.\", 'But there are still options.', \"There's dialysis, which uses a machine to filter the toxins and remove water from your body as your kidneys are no longer able to do this.\", 'Where possible, the preferred therapy is a kidney transplant.', \"While an organ transplant can sound daunting, it's actually often the better alternative, and the closest thing to a cure, if you qualify for a kidney transplant.\", 'If you have kidney disease, there are lifestyle choices.', 'Namely quit smoking.', 'Consuming alcohol in moderation.', \"If you're overweight or obese, then try to lose weight.\", 'Staying active and getting exercise can help not only with your weight, but fatigue and stress.', \"If your condition allows, keep up with your routine, whether that's working, hobbies, social activities, or other things you enjoy.\", \"It can be helpful to talk to someone you trust, a friend or relative who's good at listening.\", 'Or your doctor could also refer you to a therapist or social worker.', 'It can also be helpful to find a support group and connect with people going through the same thing.', 'Learning you have chronic kidney disease and learning how to live with it can be a challenge.', 'But there are lots of ways to help you to be more comfortable for longer before more drastic measures are needed.', 'And even then, there is plenty of hope.', \"If you'd like to learn even more about chronic kidney disease, watch our other related videos or visit mayoclinic.org.\", 'We wish you well.']\n"
          ]
        }
      ],
      "source": [
        "#Tokenization \n",
        "text=corpus\n",
        "sent_tokens=nltk.sent_tokenize(text) #convert the text into a list of sentences \n",
        "\n",
        "print(sent_tokens)"
      ]
    },
    {
      "cell_type": "code",
      "execution_count": null,
      "metadata": {
        "colab": {
          "base_uri": "https://localhost:8080/"
        },
        "id": "HcOGJyhtDp-O",
        "outputId": "8df1b53d-fd84-42bb-b0dc-49499fc9c460"
      },
      "outputs": [
        {
          "name": "stdout",
          "output_type": "stream",
          "text": [
            "!\"#$%&'()*+,-./:;<=>?@[\\]^_`{|}~\n",
            "{33: None, 34: None, 35: None, 36: None, 37: None, 38: None, 39: None, 40: None, 41: None, 42: None, 43: None, 44: None, 45: None, 46: None, 47: None, 58: None, 59: None, 60: None, 61: None, 62: None, 63: None, 64: None, 91: None, 92: None, 93: None, 94: None, 95: None, 96: None, 123: None, 124: None, 125: None, 126: None}\n"
          ]
        }
      ],
      "source": [
        "#create a dictionary to remove punctuation \n",
        "remove_punct_dict=dict((ord(punct),None) for punct in string.punctuation)\n",
        "print(string.punctuation)\n",
        "print(remove_punct_dict)\n"
      ]
    },
    {
      "cell_type": "code",
      "execution_count": null,
      "metadata": {
        "id": "Y2odLOkWFW5z"
      },
      "outputs": [],
      "source": [
        ""
      ]
    },
    {
      "cell_type": "code",
      "execution_count": null,
      "metadata": {
        "colab": {
          "base_uri": "https://localhost:8080/"
        },
        "id": "D_1EVXt2GnwJ",
        "outputId": "b78a7ee5-9834-41f9-f182-61ba49e27207"
      },
      "outputs": [
        {
          "name": "stdout",
          "output_type": "stream",
          "text": [
            "['im', 'dr', 'andrew', 'bentall', 'a', 'kidney', 'doctor', 'at', 'mayo', 'clinic', 'i', 'look', 'after', 'patients', 'with', 'kidney', 'disease', 'either', 'in', 'the', 'early', 'stages', 'or', 'with', 'more', 'advanced', 'kidney', 'disease', 'considering', 'dialysis', 'and', 'transplantation', 'as', 'treatment', 'options', 'in', 'this', 'video', 'well', 'cover', 'the', 'basics', 'of', 'chronic', 'kidney', 'disease', 'what', 'is', 'it', 'who', 'gets', 'it', 'the', 'symptoms', 'diagnosis', 'and', 'treatment', 'whether', 'you', 'are', 'looking', 'for', 'answers', 'for', 'yourself', 'or', 'for', 'someone', 'you', 'love', 'were', 'here', 'to', 'give', 'you', 'the', 'best', 'information', 'available', 'chronic', 'kidney', 'disease', 'is', 'a', 'disease', 'characterized', 'by', 'progressive', 'damage', 'and', 'loss', 'of', 'function', 'in', 'the', 'kidneys', 'its', 'estimated', 'that', 'chronic', 'kidney', 'disease', 'affects', 'about', 'one', 'in', 'seven', 'american', 'adults', 'and', 'most', 'of', 'those', 'dont', 'know', 'they', 'have', 'it', 'before', 'we', 'get', 'into', 'the', 'disease', 'itself', 'lets', 'talk', 'a', 'little', 'bit', 'about', 'the', 'kidneys', 'and', 'what', 'they', 'do', 'our', 'kidneys', 'play', 'many', 'important', 'roles', 'keeping', 'our', 'bodies', 'in', 'balance', 'they', 'remove', 'waste', 'and', 'toxins', 'excess', 'water', 'from', 'the', 'bloodstream', 'which', 'is', 'carried', 'out', 'of', 'the', 'body', 'in', 'urine', 'they', 'helped', 'to', 'make', 'hormones', 'to', 'produce', 'red', 'blood', 'cells', 'and', 'they', 'turn', 'vitamin', 'd', 'into', 'its', 'active', 'form', 'so', 'its', 'usable', 'in', 'the', 'body', 'there', 'are', 'quite', 'a', 'few', 'things', 'that', 'can', 'cause', 'or', 'put', 'you', 'at', 'higher', 'risk', 'for', 'chronic', 'kidney', 'disease', 'some', 'of', 'them', 'are', 'not', 'things', 'that', 'can', 'be', 'avoided', 'your', 'risk', 'is', 'simply', 'higher', 'if', 'you', 'have', 'a', 'family', 'history', 'of', 'certain', 'genetic', 'conditions', 'like', 'polycystic', 'kidney', 'disease', 'or', 'some', 'autoimmune', 'diseases', 'like', 'lupus', 'or', 'iga', 'nephropathy', 'defects', 'in', 'the', 'kidney', 'structure', 'can', 'also', 'cause', 'your', 'kidneys', 'to', 'fail', 'and', 'you', 'have', 'an', 'increased', 'risk', 'as', 'you', 'get', 'older', 'sometimes', 'other', 'common', 'medical', 'conditions', 'can', 'increase', 'your', 'risk', 'diabetes', 'is', 'the', 'most', 'common', 'cause', 'of', 'kidney', 'disease', 'both', 'type', '1', 'and', 'type', '2', 'diabetes', 'but', 'also', 'heart', 'disease', 'and', 'obesity', 'can', 'contribute', 'to', 'the', 'damage', 'that', 'causes', 'kidneys', 'to', 'fail', 'urinary', 'tract', 'issues', 'and', 'inflammation', 'in', 'different', 'parts', 'of', 'the', 'kidney', 'can', 'also', 'lead', 'to', 'longterm', 'functional', 'decline', 'there', 'are', 'things', 'that', 'are', 'more', 'under', 'our', 'control', 'heavy', 'or', 'longterm', 'use', 'of', 'certain', 'medications', 'even', 'those', 'that', 'are', 'common', 'overthecounter', 'smoking', 'can', 'also', 'be', 'a', 'contributing', 'factor', 'to', 'chronic', 'kidney', 'disease', 'often', 'there', 'are', 'no', 'outward', 'signs', 'in', 'the', 'earlier', 'stages', 'of', 'chronic', 'kidney', 'disease', 'which', 'is', 'grouped', 'into', 'stages', '1', 'through', '5', 'generally', 'earlier', 'stages', 'are', 'known', 'as', '1', 'to', '3', 'and', 'as', 'kidney', 'disease', 'progresses', 'you', 'may', 'notice', 'the', 'following', 'symptoms', 'nausea', 'and', 'vomiting', 'muscle', 'cramps', 'loss', 'of', 'appetite', 'swelling', 'via', 'feet', 'and', 'ankles', 'dry', 'itchy', 'skin', 'shortness', 'of', 'breath', 'trouble', 'sleeping', 'urinating', 'either', 'too', 'much', 'or', 'too', 'little', 'however', 'these', 'are', 'usually', 'in', 'the', 'later', 'stages', 'but', 'they', 'can', 'also', 'happen', 'in', 'other', 'disorders', 'so', 'dont', 'automatically', 'interpret', 'this', 'as', 'having', 'kidney', 'disease', 'but', 'if', 'youre', 'experiencing', 'anything', 'that', 'concerns', 'you', 'you', 'should', 'make', 'an', 'appointment', 'with', 'your', 'doctor', 'even', 'before', 'any', 'symptoms', 'appear', 'routine', 'blood', 'work', 'can', 'indicate', 'that', 'you', 'might', 'be', 'in', 'the', 'early', 'stages', 'of', 'chronic', 'kidney', 'disease', 'and', 'the', 'earlier', 'its', 'detected', 'the', 'easier', 'it', 'is', 'to', 'treat', 'this', 'is', 'why', 'regular', 'checkups', 'with', 'your', 'doctor', 'are', 'important', 'if', 'your', 'doctor', 'suspects', 'the', 'onset', 'of', 'chronic', 'kidney', 'disease', 'they', 'may', 'schedule', 'a', 'variety', 'of', 'other', 'tests', 'they', 'may', 'also', 'refer', 'you', 'to', 'a', 'kidney', 'specialist', 'a', 'nephrologist', 'like', 'myself', 'urine', 'tests', 'can', 'reveal', 'abnormalities', 'and', 'give', 'clues', 'to', 'the', 'underlying', 'cause', 'of', 'the', 'chronic', 'kidney', 'disease', 'and', 'this', 'can', 'also', 'help', 'to', 'determine', 'the', 'underlying', 'issues', 'various', 'imaging', 'tests', 'like', 'ultrasounds', 'or', 'ct', 'scans', 'can', 'be', 'done', 'to', 'help', 'your', 'doctor', 'assess', 'the', 'size', 'the', 'structure', 'as', 'well', 'as', 'evaluate', 'the', 'visible', 'damage', 'inflammation', 'or', 'stones', 'of', 'your', 'kidneys', 'and', 'in', 'some', 'cases', 'a', 'kidney', 'biopsy', 'may', 'be', 'necessary', 'and', 'a', 'small', 'amount', 'of', 'tissue', 'is', 'taken', 'with', 'a', 'needle', 'and', 'sent', 'to', 'the', 'pathologist', 'for', 'further', 'analysis', 'treatment', 'is', 'determined', 'by', 'what', 'is', 'causing', 'your', 'kidneys', 'to', 'not', 'function', 'normally', 'treating', 'the', 'cause', 'is', 'key', 'leading', 'to', 'reduced', 'complications', 'and', 'slowing', 'progression', 'of', 'kidney', 'disease', 'for', 'example', 'getting', 'better', 'blood', 'pressure', 'control', 'improved', 'sugar', 'control', 'and', 'diabetes', 'and', 'reducing', 'weight', 'are', 'often', 'key', 'interventions', 'however', 'existing', 'damage', 'is', 'not', 'usually', 'reversible', 'in', 'some', 'conditions', 'treatment', 'can', 'reverse', 'the', 'cause', 'of', 'the', 'disease', 'so', 'seeking', 'medical', 'review', 'is', 'really', 'important', 'individual', 'complications', 'vary', 'but', 'treatment', 'might', 'include', 'high', 'blood', 'pressure', 'medication', 'diuretics', 'to', 'reduce', 'fluid', 'and', 'swelling', 'supplements', 'to', 'relieve', 'anemia', 'statins', 'to', 'lower', 'cholesterol', 'or', 'medications', 'to', 'protect', 'your', 'bones', 'and', 'prevent', 'blood', 'vessel', 'calcification', 'a', 'lowerprotein', 'diet', 'may', 'also', 'be', 'recommended', 'it', 'reduces', 'the', 'amount', 'of', 'waste', 'your', 'kidneys', 'need', 'to', 'filter', 'from', 'your', 'blood', 'these', 'can', 'not', 'only', 'slow', 'the', 'damage', 'of', 'kidney', 'disease', 'but', 'make', 'you', 'feel', 'better', 'as', 'well', 'when', 'the', 'damage', 'has', 'progressed', 'to', 'the', 'point', 'that', '85', 'to', '90', 'percent', 'of', 'your', 'kidney', 'function', 'is', 'gone', 'and', 'they', 'no', 'longer', 'work', 'well', 'enough', 'to', 'keep', 'you', 'alive', 'its', 'called', 'endstage', 'kidney', 'failure', 'but', 'there', 'are', 'still', 'options', 'theres', 'dialysis', 'which', 'uses', 'a', 'machine', 'to', 'filter', 'the', 'toxins', 'and', 'remove', 'water', 'from', 'your', 'body', 'as', 'your', 'kidneys', 'are', 'no', 'longer', 'able', 'to', 'do', 'this', 'where', 'possible', 'the', 'preferred', 'therapy', 'is', 'a', 'kidney', 'transplant', 'while', 'an', 'organ', 'transplant', 'can', 'sound', 'daunting', 'its', 'actually', 'often', 'the', 'better', 'alternative', 'and', 'the', 'closest', 'thing', 'to', 'a', 'cure', 'if', 'you', 'qualify', 'for', 'a', 'kidney', 'transplant', 'if', 'you', 'have', 'kidney', 'disease', 'there', 'are', 'lifestyle', 'choices', 'namely', 'quit', 'smoking', 'consuming', 'alcohol', 'in', 'moderation', 'if', 'youre', 'overweight', 'or', 'obese', 'then', 'try', 'to', 'lose', 'weight', 'staying', 'active', 'and', 'getting', 'exercise', 'can', 'help', 'not', 'only', 'with', 'your', 'weight', 'but', 'fatigue', 'and', 'stress', 'if', 'your', 'condition', 'allows', 'keep', 'up', 'with', 'your', 'routine', 'whether', 'thats', 'working', 'hobbies', 'social', 'activities', 'or', 'other', 'things', 'you', 'enjoy', 'it', 'can', 'be', 'helpful', 'to', 'talk', 'to', 'someone', 'you', 'trust', 'a', 'friend', 'or', 'relative', 'whos', 'good', 'at', 'listening', 'or', 'your', 'doctor', 'could', 'also', 'refer', 'you', 'to', 'a', 'therapist', 'or', 'social', 'worker', 'it', 'can', 'also', 'be', 'helpful', 'to', 'find', 'a', 'support', 'group', 'and', 'connect', 'with', 'people', 'going', 'through', 'the', 'same', 'thing', 'learning', 'you', 'have', 'chronic', 'kidney', 'disease', 'and', 'learning', 'how', 'to', 'live', 'with', 'it', 'can', 'be', 'a', 'challenge', 'but', 'there', 'are', 'lots', 'of', 'ways', 'to', 'help', 'you', 'to', 'be', 'more', 'comfortable', 'for', 'longer', 'before', 'more', 'drastic', 'measures', 'are', 'needed', 'and', 'even', 'then', 'there', 'is', 'plenty', 'of', 'hope', 'if', 'youd', 'like', 'to', 'learn', 'even', 'more', 'about', 'chronic', 'kidney', 'disease', 'watch', 'our', 'other', 'related', 'videos', 'or', 'visit', 'mayoclinicorg', 'we', 'wish', 'you', 'well']\n",
            "123\n",
            "I'm Dr. Andrew Bentall, a kidney doctor at Mayo Clinic. I look after patients with kidney disease, either in the early stages, or with more advanced kidney disease considering dialysis and transplantation as treatment options. In this video, we'll cover the basics of chronic kidney disease. What is it? Who gets it? The symptoms, diagnosis and treatment. Whether you are looking for answers for yourself or for someone you love, we're here to give you the best information available.\n",
            "\n",
            "Chronic kidney disease is a disease characterized by progressive damage and loss of function in the kidneys. It's estimated that chronic kidney disease affects about one in seven American adults. And most of those don't know they have it. Before we get into the disease itself, let's talk a little bit about the kidneys and what they do. Our kidneys play many important roles keeping our bodies in balance. They remove waste and toxins, excess water from the bloodstream, which is carried out of the body in urine. They helped to make hormones to produce red blood cells, and they turn vitamin D into its active form, so it's usable in the body.\n",
            "\n",
            "There are quite a few things that can cause or put you at higher risk for chronic kidney disease. Some of them are not things that can be avoided. Your risk is simply higher if you have a family history of certain genetic conditions like polycystic kidney disease or some autoimmune diseases like lupus or IgA nephropathy. Defects in the kidney structure can also cause your kidneys to fail, and you have an increased risk as you get older. Sometimes, other common medical conditions can increase your risk. Diabetes is the most common cause of kidney disease. Both type 1 and type 2 diabetes. But also heart disease and obesity can contribute to the damage that causes kidneys to fail. Urinary tract issues and inflammation in different parts of the kidney can also lead to long-term functional decline. There are things that are more under our control: Heavy or long-term use of certain medications, even those that are common over-the-counter. Smoking can also be a contributing factor to chronic kidney disease.\n",
            "\n",
            "Often there are no outward signs in the earlier stages of chronic kidney disease, which is grouped into stages 1 through 5. Generally, earlier stages are known as 1 to 3. And as kidney disease progresses, you may notice the following symptoms. Nausea and vomiting, muscle cramps, loss of appetite, swelling via feet and ankles, dry, itchy skin, shortness of breath, trouble sleeping, urinating either too much or too little. However, these are usually in the later stages, but they can also happen in other disorders. So don't automatically interpret this as having kidney disease. But if you're experiencing anything that concerns you, you should make an appointment with your doctor.\n",
            "\n",
            "Even before any symptoms appear, routine blood work can indicate that you might be in the early stages of chronic kidney disease. And the earlier it's detected, the easier it is to treat. This is why regular checkups with your doctor are important. If your doctor suspects the onset of chronic kidney disease, they may schedule a variety of other tests. They may also refer you to a kidney specialist, a nephrologist like myself. Urine tests can reveal abnormalities and give clues to the underlying cause of the chronic kidney disease. And this can also help to determine the underlying issues. Various imaging tests like ultrasounds or CT scans can be done to help your doctor assess the size, the structure, as well as evaluate the visible damage, inflammation or stones of your kidneys. And in some cases, a kidney biopsy may be necessary. And a small amount of tissue is taken with a needle and sent to the pathologist for further analysis.\n",
            "\n",
            "Treatment is determined by what is causing your kidneys to not function normally. Treating the cause is key, leading to reduced complications and slowing progression of kidney disease. For example, getting better blood pressure control, improved sugar control and diabetes, and reducing weight are often key interventions. However, existing damage is not usually reversible. In some conditions, treatment can reverse the cause of the disease. So seeking medical review is really important. Individual complications vary, but treatment might include high blood pressure medication, diuretics to reduce fluid and swelling, supplements to relieve anemia, statins to lower cholesterol, or medications to protect your bones and prevent blood vessel calcification. A lower-protein diet may also be recommended. It reduces the amount of waste your kidneys need to filter from your blood. These can not only slow the damage of kidney disease, but make you feel better as well. When the damage has progressed to the point that 85 to 90 percent of your kidney function is gone, and they no longer work well enough to keep you alive, it's called end-stage kidney failure. But there are still options. There's dialysis, which uses a machine to filter the toxins and remove water from your body as your kidneys are no longer able to do this. Where possible, the preferred therapy is a kidney transplant. While an organ transplant can sound daunting, it's actually often the better alternative, and the closest thing to a cure, if you qualify for a kidney transplant.\n",
            "\n",
            "If you have kidney disease, there are lifestyle choices. Namely quit smoking. Consuming alcohol in moderation. If you're overweight or obese, then try to lose weight. Staying active and getting exercise can help not only with your weight, but fatigue and stress. If your condition allows, keep up with your routine, whether that's working, hobbies, social activities, or other things you enjoy. It can be helpful to talk to someone you trust, a friend or relative who's good at listening. Or your doctor could also refer you to a therapist or social worker. It can also be helpful to find a support group and connect with people going through the same thing. Learning you have chronic kidney disease and learning how to live with it can be a challenge. But there are lots of ways to help you to be more comfortable for longer before more drastic measures are needed. And even then, there is plenty of hope. If you'd like to learn even more about chronic kidney disease, watch our other related videos or visit mayoclinic.org. We wish you well.\n"
          ]
        }
      ],
      "source": [
        "#Create a function to return  list of lemmatized lower case words after removing punctuation \n",
        "def LemNormalize(text):\n",
        "  return nltk.word_tokenize(text.lower().translate(remove_punct_dict))\n",
        "  #Print the tokenization text \n",
        "print (LemNormalize(text))\n",
        "print('123')\n",
        "print (text)\n"
      ]
    },
    {
      "cell_type": "code",
      "execution_count": null,
      "metadata": {
        "id": "KMJWdLAqMswS"
      },
      "outputs": [],
      "source": [
        "import random \n",
        "#Keywords Matching \n",
        "#Greetings Input \n",
        "GREETINGS_Inputs=[\"Hello\",\"Hi\",\"hi\",\"hola\",\"greetings\",\"wassup\",\"hey\"]\n",
        "#Greetings responses back to user \n",
        "GREETING_RESPONSE=[\"howdy\",\"hi\",\"hey\",\"whats good\", \"hello\", \"hey there\"]\n",
        "# Function to return random greeting response to a user response \n",
        "def greeting(sentence):\n",
        "  for word in sentence.split():\n",
        "    #print('from greeting function '+ word)\n",
        "    if word.lower() in GREETINGS_Inputs:\n",
        "      return random.choice(GREETING_RESPONSE)\n",
        "\n"
      ]
    },
    {
      "cell_type": "code",
      "execution_count": null,
      "metadata": {
        "id": "3ePgm0ez6ifR"
      },
      "outputs": [],
      "source": [
        "#generate the response \n",
        "def response(user_response):\n",
        "\n",
        "  #user_response='what is chronic kidney disease'\n",
        "  user_response=user_response.lower()\n",
        "  ### Print the user response \n",
        "  #print(user_response)\n",
        "\n",
        "  #set bot response to an empty string \n",
        "  robo_response=''\n",
        "  #append the user response to a sentence list \n",
        "  sent_tokens.append(user_response)\n",
        "\n",
        "  ### print the sentence list after appending user resposne \n",
        "\n",
        "  #print (sent_tokens)\n",
        "  #create a tfidfvectorizer object \n",
        "  TfidfVec=TfidfVectorizer(tokenizer=LemNormalize,stop_words='english')\n",
        "  #convert text to a metrix of Tf-idf features \n",
        "  tfidf=TfidfVec.fit_transform(sent_tokens)\n",
        "  ### print the tfidf features \n",
        "  #print (tfidf)\n",
        "\n",
        "  #get the measure of similarity (similarity scores)\n",
        "  vals=cosine_similarity(tfidf[-1],tfidf)\n",
        "\n",
        "  ### Print Vals \n",
        "  #print(vals)\n",
        "\n",
        "  ### get the index of most similar text/sentence to the user response \n",
        "  idx=vals.argsort()[0][-2]\n",
        "\n",
        "  #reduce the dimensionality of vals \n",
        "  flat= vals.flatten()\n",
        "\n",
        "  #sort the list in ascending order \n",
        "  flat.sort()\n",
        "\n",
        "  #get the most similar score to user response \n",
        "  score= flat[-2]\n",
        "\n",
        "  #if the variable score is 0 then there is no text similar to the users response \n",
        "  if (score==0):\n",
        "    robo_response = robo_response+\"I apologies I dont understand\"\n",
        "  else:\n",
        "    robo_response=robo_response+sent_tokens[idx]\n",
        "\n",
        "  #Print chatbot resposne \n",
        "  #print (robo_response)\n",
        "\n",
        "  #print (sent_tokens[idx])\n",
        "  sent_tokens.remove(user_response)\n",
        "  return robo_response\n",
        "\n",
        "\n",
        "\n",
        "\n"
      ]
    },
    {
      "cell_type": "code",
      "execution_count": null,
      "metadata": {
        "id": "LU5sXIbx-kMO"
      },
      "outputs": [],
      "source": [
        "#sent_tokens.remove(user_response)"
      ]
    },
    {
      "cell_type": "code",
      "execution_count": null,
      "metadata": {
        "colab": {
          "background_save": true,
          "base_uri": "https://localhost:8080/"
        },
        "id": "ckdy9AtX-0A1",
        "outputId": "4e95ba45-6c0d-4748-db74-e745eeef0da9"
      },
      "outputs": [
        {
          "name": "stdout",
          "output_type": "stream",
          "text": [
            "DocBot: I am DocBot or Doctor Bot , and I will answer your queries for Chronic Kidney diseases, if you want to exit type Bye\n",
            "DocBot:Your risk is simply higher if you have a family history of certain genetic conditions like polycystic kidney disease or some autoimmune diseases like lupus or IgA nephropathy.\n",
            "DocBot:Smoking can also be a contributing factor to chronic kidney disease.\n",
            "DocBot:Smoking can also be a contributing factor to chronic kidney disease.\n"
          ]
        }
      ],
      "source": [
        "flag= True \n",
        "print (\"DocBot: I am DocBot or Doctor Bot , and I will answer your queries for Chronic Kidney diseases, if you want to exit type Bye\")\n",
        "while (flag==True):\n",
        "  user_response=input()\n",
        "  user_response=user_response.lower()\n",
        "  if(user_response!=\"bye\"):\n",
        "    if(user_response == 'thanks' or user_response == 'thank you'):\n",
        "      flag=False\n",
        "      print(\"DocBot : You are Welcome !\")\n",
        "    else:\n",
        "      #print('1')\n",
        "      #print('1.1'+ greeting(user_response))\n",
        "      if(greeting(user_response)!=None):\n",
        "       # print('1.2')\n",
        "        print(\"DocBot:\"+ greeting(user_response))\n",
        "      else:\n",
        "        print('DocBot:' + response(user_response))  \n",
        "       \n",
        "  else:\n",
        "      flag=False\n",
        "      print (\"DocBot: Chat with you later !\")\n"
      ]
    },
    {
      "cell_type": "code",
      "execution_count": null,
      "metadata": {
        "id": "p3fscghblAmj"
      },
      "outputs": [],
      "source": [
        "pip install newspaper3k"
      ]
    }
  ],
  "metadata": {
    "colab": {
      "collapsed_sections": [],
      "name": "MLChatbot.ipynb",
      "provenance": []
    },
    "kernelspec": {
      "display_name": "Python 3",
      "name": "python3"
    }
  },
  "nbformat": 4,
  "nbformat_minor": 0
}